{
 "cells": [
  {
   "cell_type": "code",
   "execution_count": null,
   "metadata": {},
   "outputs": [],
   "source": [
    "import os\n",
    "from bs4 import BeautifulSoup\n",
    "import numpy as np\n",
    "import pandas as pd\n",
    "import regex as re\n",
    "import requests\n",
    "\n",
    "pd.set_option('display.max_rows', None)\n",
    "pd.set_option('mode.chained_assignment',None)"
   ]
  },
  {
   "cell_type": "code",
   "execution_count": null,
   "metadata": {},
   "outputs": [],
   "source": [
    "headers = {\n",
    "    'authority': 'www.zillow.com',\n",
    "    'sec-ch-ua': '\"Google Chrome\";v=\"89\", \"Chromium\";v=\"89\", \";Not A Brand\";v=\"99\"',\n",
    "    'sec-ch-ua-mobile': '?0',\n",
    "    'user-agent': 'Mozilla/5.0 (Windows NT 10.0; Win64; x64) AppleWebKit/537.36 (KHTML, like Gecko) Chrome/89.0.4389.114 Safari/537.36',\n",
    "    'accept': '*/*',\n",
    "    'sec-fetch-site': 'same-origin',\n",
    "    'sec-fetch-mode': 'cors',\n",
    "    'sec-fetch-dest': 'empty',\n",
    "    'referer': 'https://www.zillow.com/los-angeles-ca/2_p/?searchQueryState=%7B%22pagination%22%3A%7B%22currentPage%22%3A2%7D%2C%22usersSearchTerm%22%3A%22Los%20Angeles%22%2C%22mapBounds%22%3A%7B%22west%22%3A-118.88620504589845%2C%22east%22%3A-117.93726095410157%2C%22south%22%3A33.54554919445917%2C%22north%22%3A34.49481997322805%7D%2C%22regionSelection%22%3A%5B%7B%22regionId%22%3A12447%2C%22regionType%22%3A6%7D%5D%2C%22isMapVisible%22%3Atrue%2C%22filterState%22%3A%7B%22sort%22%3A%7B%22value%22%3A%22globalrelevanceex%22%7D%2C%22ah%22%3A%7B%22value%22%3Atrue%7D%7D%2C%22isListVisible%22%3Atrue%7D',\n",
    "    'accept-language': 'en-US,en;q=0.9',\n",
    "}\n",
    "\n",
    "\n",
    "#NB. Original query string below. It seems impossible to parse and\n",
    "#reproduce query strings 100% accurately so the one below is given\n",
    "#in case the reproduced version is not \"correct\".\n",
    "# response = requests.get('https://www.zillow.com/search/GetSearchPageState.htm?searchQueryState=%7B%22pagination%22%3A%7B%22currentPage%22%3A2%7D%2C%22usersSearchTerm%22%3A%22Los%20Angeles%22%2C%22mapBounds%22%3A%7B%22west%22%3A-118.88620504589845%2C%22east%22%3A-117.93726095410157%2C%22south%22%3A33.54554919445917%2C%22north%22%3A34.49481997322805%7D%2C%22regionSelection%22%3A%5B%7B%22regionId%22%3A12447%2C%22regionType%22%3A6%7D%5D%2C%22isMapVisible%22%3Atrue%2C%22filterState%22%3A%7B%22sortSelection%22%3A%7B%22value%22%3A%22globalrelevanceex%22%7D%2C%22isAllHomes%22%3A%7B%22value%22%3Atrue%7D%7D%2C%22isListVisible%22%3Atrue%7D&wants=\\{%22cat1%22:\\[%22listResults%22,%22mapResults%22\\],%22cat2%22:\\[%22total%22\\]\\}&requestId=3', headers=headers)\n"
   ]
  },
  {
   "cell_type": "code",
   "execution_count": null,
   "metadata": {},
   "outputs": [],
   "source": [
    "with requests.session() as s:\n",
    "    city = 'los-angeles/'\n",
    "    page = 1\n",
    "    end_page = 10\n",
    "    url = ''\n",
    "    url_list = []\n",
    "    \n",
    "    while page <= end_page:\n",
    "        url = 'https://www.zillow.com/homes/for_sale/' +city+ f'{page}_p/'\n",
    "        url_list.append(url)\n",
    "        page += 1\n",
    "    \n",
    "    request = ''\n",
    "    request_list = []\n",
    "    \n",
    "    for url in url_list:\n",
    "        request = s.get(url, headers=headers)\n",
    "        request_list.append(request)\n",
    "    \n",
    "soup = ''\n",
    "soup_list = []\n",
    "\n",
    "for request in request_list:\n",
    "    soup = BeautifulSoup(request.content, 'html.parser')\n",
    "    soup_list.append(soup)"
   ]
  },
  {
   "cell_type": "code",
   "execution_count": null,
   "metadata": {},
   "outputs": [],
   "source": [
    "soup_list[0]"
   ]
  },
  {
   "cell_type": "code",
   "execution_count": null,
   "metadata": {},
   "outputs": [],
   "source": [
    "df_list = []\n",
    "for soup in soup_list:\n",
    "    df = pd.DataFrame()\n",
    "    for i in soup:\n",
    "        address = soup.find_all (class_= 'list-card-addr')\n",
    "        price = list(soup.find_all (class_='list-card-price'))\n",
    "        beds = list(soup.find_all(\"ul\", class_=\"list-card-details\"))\n",
    "        details = soup.find_all ('div', {'class': 'list-card-details'})\n",
    "        home_type = soup.find_all ('div', {'class': 'list-card-footer'})\n",
    "        last_updated = soup.find_all ('div', {'class': 'list-card-top'})\n",
    "        brokerage = list(soup.find_all(class_= 'list-card-brokerage list-card-img-overlay',text=True))\n",
    "        link = soup.find_all (class_= 'list-card-link')\n",
    "        \n",
    "        df['prices'] = price\n",
    "        df['address'] = address\n",
    "        df['beds'] = beds\n",
    "        \n",
    "    urls = []\n",
    "    \n",
    "    for link in soup.find_all(\"article\"):\n",
    "        href = link.find('a',class_=\"list-card-link\")\n",
    "        addresses = href.find('address')\n",
    "        addresses.extract()\n",
    "        urls.append(href)\n",
    "    \n",
    "    df['links'] = urls\n",
    "    df['links'] = df['links'].astype('str')\n",
    "    df['links'] = df['links'].replace('<a class=\"list-card-link list-card-link-top-margin\" href=\"', ' ', regex=True)\n",
    "    df['links'] = df['links'].replace('\" tabindex=\"0\"></a>', ' ', regex=True)\n",
    "    df_list.append(df)"
   ]
  },
  {
   "cell_type": "code",
   "execution_count": null,
   "metadata": {
    "scrolled": true
   },
   "outputs": [],
   "source": [
    "df_list[0]"
   ]
  },
  {
   "cell_type": "code",
   "execution_count": null,
   "metadata": {},
   "outputs": [],
   "source": [
    "df = pd.concat(df_list).reset_index().drop(columns='index')"
   ]
  },
  {
   "cell_type": "code",
   "execution_count": null,
   "metadata": {},
   "outputs": [],
   "source": [
    "df"
   ]
  },
  {
   "cell_type": "code",
   "execution_count": null,
   "metadata": {},
   "outputs": [],
   "source": [
    "df['address'] = df['address'].astype('str')\n",
    "df['beds'] = df['beds'].astype('str')"
   ]
  },
  {
   "cell_type": "code",
   "execution_count": null,
   "metadata": {},
   "outputs": [],
   "source": [
    "#remove html tags\n",
    "#df['prices'] = df['prices'].replace('\\[', '', regex=True)\n",
    "df.loc[:,'address'] = df.loc[:,'address'].replace('<address class=\"list-card-addr\">', '', regex=True)\n",
    "#df['prices'] = df['prices'].replace('\\]', '', regex=True)\n",
    "df.loc[:,'address'] = df.loc[:,'address'].replace('</address>', '', regex=True)\n",
    "#df['prices'] = df['prices'].str.replace(r'\\D', '')\n",
    "\n",
    "#filter unwanted property types\n",
    "df = df[~df['beds'].str.contains(\"Land for sale\")]\n",
    "\n",
    "#remove html tags from beds column\n",
    "df.loc[:,'beds'] = df.loc[:,'beds'].replace('<ul class=\"list-card-details\"><li class=\"\">', ' ', regex=True)\n",
    "df.loc[:,'beds'] = df.loc[:,'beds'].replace('<abbr class=\"list-card-label\"> <!-- -->bds</abbr></li><li class=\"\">', ' ', regex=True)\n",
    "df.loc[:,'beds'] = df.loc[:,'beds'].replace('<abbr class=\"list-card-label\"> <!-- -->ba</abbr></li><li class=\"\">', ' ', regex=True)\n",
    "df.loc[:,'beds'] = df.loc[:,'beds'].replace('<abbr class=\"list-card-label\"> <!-- -->bd</abbr></li><li class=\"\">', ' ', regex=True)\n",
    "df.loc[:,'beds'] = df.loc[:,'beds'].replace('-<abbr class=\"list-card-label\"> <!-- -->Foreclosure</abbr>', '- Foreclosure', regex=True)\n",
    "df.loc[:,'beds'] = df.loc[:,'beds'].replace('<abbr class=\"list-card-label\"> <!-- -->sqft</abbr></li><li class=\"list-card-statusText\">', ' ', regex=True)\n",
    "df.loc[:,'beds'] = df.loc[:,'beds'].replace('<abbr class=\"list-card-label\"> <!-- -->acres lot</abbr></li><li class=\"list-card-statusText\">', ' ', regex=True)\n",
    "df.loc[:,'beds'] = df.loc[:,'beds'].replace('</li></ul>', '', regex=True)\n",
    "df.loc[:,'beds'] = df.loc[:,'beds'].replace('--', '0', regex=True)\n",
    "df.loc[:,'beds'] = df.loc[:,'beds'].replace('Multi-family', 'Multifamily', regex=True)\n",
    "df.loc[:,'beds'] = df.loc[:,'beds'].replace(' for sale', '', regex=True)\n",
    "df.loc[:,'beds'] = df.loc[:,'beds'].replace('-<abbr class=\"list-card-label\"> <!0 0>Auction</abbr>', '- Auction', regex=True)\n",
    "df.loc[:,'beds'] = df.loc[:,'beds'].replace('-<abbr class=\"list-card-label\"> <!0 0>Pending</abbr>', '- Pending', regex=True)\n",
    "\n",
    "#split beds column into beds, bath and sq_feet\n",
    "#df[['beds','baths','sq_feet']] = df.beds.str.split(expand=True)"
   ]
  },
  {
   "cell_type": "code",
   "execution_count": null,
   "metadata": {},
   "outputs": [],
   "source": [
    "df.iloc[19]['beds']"
   ]
  },
  {
   "cell_type": "code",
   "execution_count": null,
   "metadata": {},
   "outputs": [],
   "source": [
    "df[['beds','type']] = df.beds.apply(\n",
    "    lambda x: pd.Series(str(x).split('-')))"
   ]
  },
  {
   "cell_type": "code",
   "execution_count": null,
   "metadata": {},
   "outputs": [],
   "source": [
    "df.head()"
   ]
  },
  {
   "cell_type": "code",
   "execution_count": null,
   "metadata": {},
   "outputs": [],
   "source": [
    "df[['beds', 'baths', 'sq_feet']] = df.beds.str.split(expand=True)"
   ]
  },
  {
   "cell_type": "code",
   "execution_count": null,
   "metadata": {},
   "outputs": [],
   "source": [
    "df"
   ]
  }
 ],
 "metadata": {
  "kernelspec": {
   "display_name": "Python 3",
   "language": "python",
   "name": "python3"
  },
  "language_info": {
   "codemirror_mode": {
    "name": "ipython",
    "version": 3
   },
   "file_extension": ".py",
   "mimetype": "text/x-python",
   "name": "python",
   "nbconvert_exporter": "python",
   "pygments_lexer": "ipython3",
   "version": "3.8.5"
  }
 },
 "nbformat": 4,
 "nbformat_minor": 4
}
